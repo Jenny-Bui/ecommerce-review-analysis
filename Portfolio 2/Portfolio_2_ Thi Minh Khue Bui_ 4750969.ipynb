{
 "cells": [
  {
   "cell_type": "markdown",
   "id": "Z88FfJc9lA_T",
   "metadata": {
    "id": "Z88FfJc9lA_T"
   },
   "source": [
    "## Analysis of an E-commerce Dataset Part 2"
   ]
  },
  {
   "cell_type": "markdown",
   "id": "hoq0NwA9lA_V",
   "metadata": {
    "id": "hoq0NwA9lA_V"
   },
   "source": [
    "The goal of the second analysis task is to train linear regression models to predict users' ratings towards items. This involves a standard Data Science workflow: exploring data, building models, making predictions, and evaluating results. In this task, we will explore the impacts of feature selections and different sizes of training/testing data on the model performance. We will use another cleaned combined e-commerce sub-dataset that **is different from** the one in “Analysis of an E-commerce Dataset” task 1."
   ]
  },
  {
   "cell_type": "markdown",
   "id": "f9fd3NU_lA_W",
   "metadata": {
    "id": "f9fd3NU_lA_W"
   },
   "source": [
    "### Import Cleaned E-commerce Dataset\n",
    "The csv file named 'cleaned_ecommerce_dataset.csv' is provided. You may need to use the Pandas method, i.e., `read_csv`, for reading it. After that, please print out its total length."
   ]
  },
  {
   "cell_type": "code",
   "execution_count": 2,
   "id": "PJrb2gtAlA_W",
   "metadata": {
    "colab": {
     "base_uri": "https://localhost:8080/",
     "height": 276
    },
    "id": "PJrb2gtAlA_W",
    "outputId": "e6b53d3d-a56a-4998-ab84-5d93af538594"
   },
   "outputs": [
    {
     "data": {
      "text/html": [
       "\n",
       "  <div id=\"df-d0395a57-e85a-4d7c-8225-2291d1a55d07\" class=\"colab-df-container\">\n",
       "    <div>\n",
       "<style scoped>\n",
       "    .dataframe tbody tr th:only-of-type {\n",
       "        vertical-align: middle;\n",
       "    }\n",
       "\n",
       "    .dataframe tbody tr th {\n",
       "        vertical-align: top;\n",
       "    }\n",
       "\n",
       "    .dataframe thead th {\n",
       "        text-align: right;\n",
       "    }\n",
       "</style>\n",
       "<table border=\"1\" class=\"dataframe\">\n",
       "  <thead>\n",
       "    <tr style=\"text-align: right;\">\n",
       "      <th></th>\n",
       "      <th>userId</th>\n",
       "      <th>timestamp</th>\n",
       "      <th>review</th>\n",
       "      <th>item</th>\n",
       "      <th>rating</th>\n",
       "      <th>helpfulness</th>\n",
       "      <th>gender</th>\n",
       "      <th>category</th>\n",
       "      <th>item_id</th>\n",
       "      <th>item_price</th>\n",
       "      <th>user_city</th>\n",
       "    </tr>\n",
       "  </thead>\n",
       "  <tbody>\n",
       "    <tr>\n",
       "      <th>0</th>\n",
       "      <td>4081</td>\n",
       "      <td>71900</td>\n",
       "      <td>Not always McCrap</td>\n",
       "      <td>McDonald's</td>\n",
       "      <td>4.0</td>\n",
       "      <td>3.0</td>\n",
       "      <td>M</td>\n",
       "      <td>Restaurants &amp; Gourmet</td>\n",
       "      <td>41</td>\n",
       "      <td>30.74</td>\n",
       "      <td>4</td>\n",
       "    </tr>\n",
       "    <tr>\n",
       "      <th>1</th>\n",
       "      <td>4081</td>\n",
       "      <td>72000</td>\n",
       "      <td>I dropped the chalupa even before he told me to</td>\n",
       "      <td>Taco Bell</td>\n",
       "      <td>1.0</td>\n",
       "      <td>4.0</td>\n",
       "      <td>M</td>\n",
       "      <td>Restaurants &amp; Gourmet</td>\n",
       "      <td>74</td>\n",
       "      <td>108.30</td>\n",
       "      <td>4</td>\n",
       "    </tr>\n",
       "    <tr>\n",
       "      <th>2</th>\n",
       "      <td>4081</td>\n",
       "      <td>72000</td>\n",
       "      <td>The Wonderful World of Wendy</td>\n",
       "      <td>Wendy's</td>\n",
       "      <td>5.0</td>\n",
       "      <td>4.0</td>\n",
       "      <td>M</td>\n",
       "      <td>Restaurants &amp; Gourmet</td>\n",
       "      <td>84</td>\n",
       "      <td>69.00</td>\n",
       "      <td>4</td>\n",
       "    </tr>\n",
       "    <tr>\n",
       "      <th>3</th>\n",
       "      <td>4081</td>\n",
       "      <td>100399</td>\n",
       "      <td>They actually did it</td>\n",
       "      <td>South Park: Bigger, Longer &amp; Uncut</td>\n",
       "      <td>5.0</td>\n",
       "      <td>3.0</td>\n",
       "      <td>M</td>\n",
       "      <td>Movies</td>\n",
       "      <td>68</td>\n",
       "      <td>143.11</td>\n",
       "      <td>4</td>\n",
       "    </tr>\n",
       "    <tr>\n",
       "      <th>4</th>\n",
       "      <td>4081</td>\n",
       "      <td>100399</td>\n",
       "      <td>Hey! Gimme some pie!</td>\n",
       "      <td>American Pie</td>\n",
       "      <td>3.0</td>\n",
       "      <td>3.0</td>\n",
       "      <td>M</td>\n",
       "      <td>Movies</td>\n",
       "      <td>6</td>\n",
       "      <td>117.89</td>\n",
       "      <td>4</td>\n",
       "    </tr>\n",
       "  </tbody>\n",
       "</table>\n",
       "</div>\n",
       "    <div class=\"colab-df-buttons\">\n",
       "\n",
       "  <div class=\"colab-df-container\">\n",
       "    <button class=\"colab-df-convert\" onclick=\"convertToInteractive('df-d0395a57-e85a-4d7c-8225-2291d1a55d07')\"\n",
       "            title=\"Convert this dataframe to an interactive table.\"\n",
       "            style=\"display:none;\">\n",
       "\n",
       "  <svg xmlns=\"http://www.w3.org/2000/svg\" height=\"24px\" viewBox=\"0 -960 960 960\">\n",
       "    <path d=\"M120-120v-720h720v720H120Zm60-500h600v-160H180v160Zm220 220h160v-160H400v160Zm0 220h160v-160H400v160ZM180-400h160v-160H180v160Zm440 0h160v-160H620v160ZM180-180h160v-160H180v160Zm440 0h160v-160H620v160Z\"/>\n",
       "  </svg>\n",
       "    </button>\n",
       "\n",
       "  <style>\n",
       "    .colab-df-container {\n",
       "      display:flex;\n",
       "      gap: 12px;\n",
       "    }\n",
       "\n",
       "    .colab-df-convert {\n",
       "      background-color: #E8F0FE;\n",
       "      border: none;\n",
       "      border-radius: 50%;\n",
       "      cursor: pointer;\n",
       "      display: none;\n",
       "      fill: #1967D2;\n",
       "      height: 32px;\n",
       "      padding: 0 0 0 0;\n",
       "      width: 32px;\n",
       "    }\n",
       "\n",
       "    .colab-df-convert:hover {\n",
       "      background-color: #E2EBFA;\n",
       "      box-shadow: 0px 1px 2px rgba(60, 64, 67, 0.3), 0px 1px 3px 1px rgba(60, 64, 67, 0.15);\n",
       "      fill: #174EA6;\n",
       "    }\n",
       "\n",
       "    .colab-df-buttons div {\n",
       "      margin-bottom: 4px;\n",
       "    }\n",
       "\n",
       "    [theme=dark] .colab-df-convert {\n",
       "      background-color: #3B4455;\n",
       "      fill: #D2E3FC;\n",
       "    }\n",
       "\n",
       "    [theme=dark] .colab-df-convert:hover {\n",
       "      background-color: #434B5C;\n",
       "      box-shadow: 0px 1px 3px 1px rgba(0, 0, 0, 0.15);\n",
       "      filter: drop-shadow(0px 1px 2px rgba(0, 0, 0, 0.3));\n",
       "      fill: #FFFFFF;\n",
       "    }\n",
       "  </style>\n",
       "\n",
       "    <script>\n",
       "      const buttonEl =\n",
       "        document.querySelector('#df-d0395a57-e85a-4d7c-8225-2291d1a55d07 button.colab-df-convert');\n",
       "      buttonEl.style.display =\n",
       "        google.colab.kernel.accessAllowed ? 'block' : 'none';\n",
       "\n",
       "      async function convertToInteractive(key) {\n",
       "        const element = document.querySelector('#df-d0395a57-e85a-4d7c-8225-2291d1a55d07');\n",
       "        const dataTable =\n",
       "          await google.colab.kernel.invokeFunction('convertToInteractive',\n",
       "                                                    [key], {});\n",
       "        if (!dataTable) return;\n",
       "\n",
       "        const docLinkHtml = 'Like what you see? Visit the ' +\n",
       "          '<a target=\"_blank\" href=https://colab.research.google.com/notebooks/data_table.ipynb>data table notebook</a>'\n",
       "          + ' to learn more about interactive tables.';\n",
       "        element.innerHTML = '';\n",
       "        dataTable['output_type'] = 'display_data';\n",
       "        await google.colab.output.renderOutput(dataTable, element);\n",
       "        const docLink = document.createElement('div');\n",
       "        docLink.innerHTML = docLinkHtml;\n",
       "        element.appendChild(docLink);\n",
       "      }\n",
       "    </script>\n",
       "  </div>\n",
       "\n",
       "\n",
       "<div id=\"df-58c30bac-0bc5-402d-a7e7-1f4baca54904\">\n",
       "  <button class=\"colab-df-quickchart\" onclick=\"quickchart('df-58c30bac-0bc5-402d-a7e7-1f4baca54904')\"\n",
       "            title=\"Suggest charts.\"\n",
       "            style=\"display:none;\">\n",
       "\n",
       "<svg xmlns=\"http://www.w3.org/2000/svg\" height=\"24px\"viewBox=\"0 0 24 24\"\n",
       "     width=\"24px\">\n",
       "    <g>\n",
       "        <path d=\"M19 3H5c-1.1 0-2 .9-2 2v14c0 1.1.9 2 2 2h14c1.1 0 2-.9 2-2V5c0-1.1-.9-2-2-2zM9 17H7v-7h2v7zm4 0h-2V7h2v10zm4 0h-2v-4h2v4z\"/>\n",
       "    </g>\n",
       "</svg>\n",
       "  </button>\n",
       "\n",
       "<style>\n",
       "  .colab-df-quickchart {\n",
       "      --bg-color: #E8F0FE;\n",
       "      --fill-color: #1967D2;\n",
       "      --hover-bg-color: #E2EBFA;\n",
       "      --hover-fill-color: #174EA6;\n",
       "      --disabled-fill-color: #AAA;\n",
       "      --disabled-bg-color: #DDD;\n",
       "  }\n",
       "\n",
       "  [theme=dark] .colab-df-quickchart {\n",
       "      --bg-color: #3B4455;\n",
       "      --fill-color: #D2E3FC;\n",
       "      --hover-bg-color: #434B5C;\n",
       "      --hover-fill-color: #FFFFFF;\n",
       "      --disabled-bg-color: #3B4455;\n",
       "      --disabled-fill-color: #666;\n",
       "  }\n",
       "\n",
       "  .colab-df-quickchart {\n",
       "    background-color: var(--bg-color);\n",
       "    border: none;\n",
       "    border-radius: 50%;\n",
       "    cursor: pointer;\n",
       "    display: none;\n",
       "    fill: var(--fill-color);\n",
       "    height: 32px;\n",
       "    padding: 0;\n",
       "    width: 32px;\n",
       "  }\n",
       "\n",
       "  .colab-df-quickchart:hover {\n",
       "    background-color: var(--hover-bg-color);\n",
       "    box-shadow: 0 1px 2px rgba(60, 64, 67, 0.3), 0 1px 3px 1px rgba(60, 64, 67, 0.15);\n",
       "    fill: var(--button-hover-fill-color);\n",
       "  }\n",
       "\n",
       "  .colab-df-quickchart-complete:disabled,\n",
       "  .colab-df-quickchart-complete:disabled:hover {\n",
       "    background-color: var(--disabled-bg-color);\n",
       "    fill: var(--disabled-fill-color);\n",
       "    box-shadow: none;\n",
       "  }\n",
       "\n",
       "  .colab-df-spinner {\n",
       "    border: 2px solid var(--fill-color);\n",
       "    border-color: transparent;\n",
       "    border-bottom-color: var(--fill-color);\n",
       "    animation:\n",
       "      spin 1s steps(1) infinite;\n",
       "  }\n",
       "\n",
       "  @keyframes spin {\n",
       "    0% {\n",
       "      border-color: transparent;\n",
       "      border-bottom-color: var(--fill-color);\n",
       "      border-left-color: var(--fill-color);\n",
       "    }\n",
       "    20% {\n",
       "      border-color: transparent;\n",
       "      border-left-color: var(--fill-color);\n",
       "      border-top-color: var(--fill-color);\n",
       "    }\n",
       "    30% {\n",
       "      border-color: transparent;\n",
       "      border-left-color: var(--fill-color);\n",
       "      border-top-color: var(--fill-color);\n",
       "      border-right-color: var(--fill-color);\n",
       "    }\n",
       "    40% {\n",
       "      border-color: transparent;\n",
       "      border-right-color: var(--fill-color);\n",
       "      border-top-color: var(--fill-color);\n",
       "    }\n",
       "    60% {\n",
       "      border-color: transparent;\n",
       "      border-right-color: var(--fill-color);\n",
       "    }\n",
       "    80% {\n",
       "      border-color: transparent;\n",
       "      border-right-color: var(--fill-color);\n",
       "      border-bottom-color: var(--fill-color);\n",
       "    }\n",
       "    90% {\n",
       "      border-color: transparent;\n",
       "      border-bottom-color: var(--fill-color);\n",
       "    }\n",
       "  }\n",
       "</style>\n",
       "\n",
       "  <script>\n",
       "    async function quickchart(key) {\n",
       "      const quickchartButtonEl =\n",
       "        document.querySelector('#' + key + ' button');\n",
       "      quickchartButtonEl.disabled = true;  // To prevent multiple clicks.\n",
       "      quickchartButtonEl.classList.add('colab-df-spinner');\n",
       "      try {\n",
       "        const charts = await google.colab.kernel.invokeFunction(\n",
       "            'suggestCharts', [key], {});\n",
       "      } catch (error) {\n",
       "        console.error('Error during call to suggestCharts:', error);\n",
       "      }\n",
       "      quickchartButtonEl.classList.remove('colab-df-spinner');\n",
       "      quickchartButtonEl.classList.add('colab-df-quickchart-complete');\n",
       "    }\n",
       "    (() => {\n",
       "      let quickchartButtonEl =\n",
       "        document.querySelector('#df-58c30bac-0bc5-402d-a7e7-1f4baca54904 button');\n",
       "      quickchartButtonEl.style.display =\n",
       "        google.colab.kernel.accessAllowed ? 'block' : 'none';\n",
       "    })();\n",
       "  </script>\n",
       "</div>\n",
       "    </div>\n",
       "  </div>\n"
      ],
      "text/plain": [
       "   userId  timestamp                                           review  \\\n",
       "0    4081      71900                                Not always McCrap   \n",
       "1    4081      72000  I dropped the chalupa even before he told me to   \n",
       "2    4081      72000                     The Wonderful World of Wendy   \n",
       "3    4081     100399                             They actually did it   \n",
       "4    4081     100399                             Hey! Gimme some pie!   \n",
       "\n",
       "                                 item  rating  helpfulness gender  \\\n",
       "0                          McDonald's     4.0          3.0      M   \n",
       "1                           Taco Bell     1.0          4.0      M   \n",
       "2                             Wendy's     5.0          4.0      M   \n",
       "3  South Park: Bigger, Longer & Uncut     5.0          3.0      M   \n",
       "4                        American Pie     3.0          3.0      M   \n",
       "\n",
       "                category  item_id  item_price  user_city  \n",
       "0  Restaurants & Gourmet       41       30.74          4  \n",
       "1  Restaurants & Gourmet       74      108.30          4  \n",
       "2  Restaurants & Gourmet       84       69.00          4  \n",
       "3                 Movies       68      143.11          4  \n",
       "4                 Movies        6      117.89          4  "
      ]
     },
     "execution_count": 2,
     "metadata": {},
     "output_type": "execute_result"
    }
   ],
   "source": [
    "import pandas as pd\n",
    "import numpy as np\n",
    "from sklearn.model_selection import train_test_split\n",
    "from sklearn import linear_model\n",
    "from sklearn.metrics import r2_score\n",
    "import math\n",
    "\n",
    "import seaborn as sns\n",
    "import matplotlib.pylab as plt\n",
    "%matplotlib inline\n",
    "\n",
    "data = pd.read_csv('/content/sample_data/cleaned_ecommerce_dataset.csv')\n",
    "data.head()"
   ]
  },
  {
   "cell_type": "markdown",
   "id": "aqbuU6rglA_X",
   "metadata": {
    "id": "aqbuU6rglA_X"
   },
   "source": [
    "### Explore the Dataset\n",
    "\n",
    "* Use the methods, i.e., `head()` and `info()`, to have a rough picture about the data, e.g., how many columns, and the data types of each column.\n",
    "* As our goal is to predict ratings given other columns, please get the correlations between helpfulness/gender/category/review and rating by using the `corr()` method.\n",
    "* To get the correlations between different features, you may need to first convert the categorical features (i.e., gender, category and review) into numerial values. For doing this, you may need to import `OrdinalEncoder` from `sklearn.preprocessing` (refer to the useful exmaples [here](https://pbpython.com/categorical-encoding.html))\n",
    "* Please provide ___necessary explanations/analysis___ on the correlations, and figure out which are the ___most___ and ___least___ corrleated features regarding rating. Try to ___discuss___ how the correlation will affect the final prediction results, if we use these features to train a regression model for rating prediction. In what follows, we will conduct experiments to verify your hypothesis."
   ]
  },
  {
   "cell_type": "code",
   "execution_count": 3,
   "id": "W3PImHiElA_X",
   "metadata": {
    "colab": {
     "base_uri": "https://localhost:8080/"
    },
    "id": "W3PImHiElA_X",
    "outputId": "35176f2a-16eb-4ac1-ff53-b0a6622ee467"
   },
   "outputs": [
    {
     "name": "stdout",
     "output_type": "stream",
     "text": [
      "<class 'pandas.core.frame.DataFrame'>\n",
      "RangeIndex: 2685 entries, 0 to 2684\n",
      "Data columns (total 11 columns):\n",
      " #   Column       Non-Null Count  Dtype  \n",
      "---  ------       --------------  -----  \n",
      " 0   userId       2685 non-null   int64  \n",
      " 1   timestamp    2685 non-null   int64  \n",
      " 2   review       2685 non-null   object \n",
      " 3   item         2685 non-null   object \n",
      " 4   rating       2685 non-null   float64\n",
      " 5   helpfulness  2685 non-null   float64\n",
      " 6   gender       2685 non-null   object \n",
      " 7   category     2685 non-null   object \n",
      " 8   item_id      2685 non-null   int64  \n",
      " 9   item_price   2685 non-null   float64\n",
      " 10  user_city    2685 non-null   int64  \n",
      "dtypes: float64(3), int64(4), object(4)\n",
      "memory usage: 230.9+ KB\n"
     ]
    }
   ],
   "source": [
    "data.info()"
   ]
  },
  {
   "cell_type": "code",
   "execution_count": 4,
   "id": "2TRs3FTBXBZ7",
   "metadata": {
    "colab": {
     "base_uri": "https://localhost:8080/"
    },
    "id": "2TRs3FTBXBZ7",
    "outputId": "c5f94af0-7d96-40d1-8cb7-68c00fcf18b9"
   },
   "outputs": [
    {
     "name": "stdout",
     "output_type": "stream",
     "text": [
      "Correlation between helpfulness and rating: -0.00752333772684455\n",
      "Correlation between gender and rating: -0.03433661424208268\n",
      "Correlation between category and rating: -0.16315765340915642\n",
      "Correlation between review and rating: -0.03611838655212237\n"
     ]
    }
   ],
   "source": [
    "from sklearn.preprocessing import OrdinalEncoder\n",
    "ord_enc = OrdinalEncoder()\n",
    "\n",
    "print(\"Correlation between helpfulness and rating:\", data.rating.corr(data.helpfulness))\n",
    "\n",
    "# correlation between gender and rating\n",
    "data[\"genderCode\"] = ord_enc.fit_transform(data[[\"gender\"]])\n",
    "corGen = data.rating.corr(data.genderCode)\n",
    "print(\"Correlation between gender and rating:\", corGen)\n",
    "\n",
    "# correlation between category and rating\n",
    "data[\"CateCode\"] = ord_enc.fit_transform(data[[\"category\"]])\n",
    "corCat = data.rating.corr(data.CateCode)\n",
    "print(\"Correlation between category and rating:\", corCat)\n",
    "\n",
    "# correlation between review rating\n",
    "data[\"ReCode\"] = ord_enc.fit_transform(data[[\"review\"]])\n",
    "corRe = data.rating.corr(data.ReCode)\n",
    "print(\"Correlation between review and rating:\", corRe)"
   ]
  },
  {
   "cell_type": "markdown",
   "id": "9daAMd0gkO3z",
   "metadata": {
    "id": "9daAMd0gkO3z"
   },
   "source": [
    "**The highest correlation** is between category and rating comes to 0.163, as this indicate category does have impact on the level of rating.  \n",
    "\n",
    "On the other hand, relationship between helpfulness and rating has **the lowest correlation** with 0.008, this show that helpfulness doesn't have (much)  impact on rating, but if there is they have a negative impact on rating, if the helpfulness point high, the rating wil be low.\n",
    "\n",
    "Overall, none of them have a huge impact on rating, this indicates this data is randomized."
   ]
  },
  {
   "cell_type": "markdown",
   "id": "4myP5igslA_Y",
   "metadata": {
    "id": "4myP5igslA_Y"
   },
   "source": [
    "\n",
    "\n",
    "```\n",
    "# This is formatted as code\n",
    "```\n",
    "\n",
    "### Split Training and Testing Data\n",
    "* Machine learning models are trained to help make predictions for the future. Normally, we need to randomly split the dataset into training and testing sets, where we use the training set to train the model, and then leverage the well-trained model to make predictions on the testing set.\n",
    "* To further investigate whether the size of the training/testing data affects the model performance, please random split the data into training and testing sets with different sizes:\n",
    "    * Case 1: training data containing 10% of the entire data;\n",
    "    * Case 2: training data containing 90% of the entire data.\n",
    "* Print the shape of training and testing sets in the two cases."
   ]
  },
  {
   "cell_type": "code",
   "execution_count": 5,
   "id": "JIDMig9blA_Y",
   "metadata": {
    "colab": {
     "base_uri": "https://localhost:8080/"
    },
    "id": "JIDMig9blA_Y",
    "outputId": "1a87e42c-a707-4598-f09f-6d9a1231e56f"
   },
   "outputs": [
    {
     "name": "stdout",
     "output_type": "stream",
     "text": [
      "Train set for case 1: (268, 14)\n",
      "Test set for case 1: (2417, 14) \n",
      "\n",
      "Train set for case 2: (2416, 14)\n",
      "Test set for case 2: (269, 14)\n"
     ]
    }
   ],
   "source": [
    "# Case 1: training data containing 10% of the entire data\n",
    "train, test = train_test_split(data, test_size=0.9, random_state=2)\n",
    "print(\"Train set for case 1:\", train.shape)\n",
    "print(\"Test set for case 1:\", test.shape, '\\n')\n",
    "\n",
    "# Case 2: training data containing 90% of the entire data\n",
    "train2, test2 = train_test_split(data, test_size=0.1, random_state=2)\n",
    "print(\"Train set for case 2:\", train2.shape)\n",
    "print(\"Test set for case 2:\", test2.shape)"
   ]
  },
  {
   "cell_type": "markdown",
   "id": "DjSsgT0BlA_Y",
   "metadata": {
    "id": "DjSsgT0BlA_Y"
   },
   "source": [
    "### Train Linear Regression Models with Feature Selection under Cases 1 & 2\n",
    "* When training a machine learning model for prediction, we may need to select the most important/correlated input features for more accurate results.\n",
    "* To investigate whether feature selection affects the model performance, please select two most correlated features and two least correlated features regarding rating, respectively.\n",
    "* Train four linear regression models by following the conditions:\n",
    "    - (model-a) using the training/testing data in case 1 with two most correlated input features\n",
    "    - (model-b) using the training/testing data in case 1 with two least correlated input features\n",
    "    - (model-c) using the training/testing data in case 2 with two most correlated input features\n",
    "    - (model-d) using the training/testing data in case 2 with two least correlated input features\n",
    "* By doing this, we can verify the impacts of the size of traing/testing data on the model performance via comparing model-a and model-c (or model-b and model-d); meanwhile the impacts of feature selection can be validated via comparing model-a and model-b (or model-c and model-d).    "
   ]
  },
  {
   "cell_type": "code",
   "execution_count": 6,
   "id": "DASzPUATlA_Z",
   "metadata": {
    "colab": {
     "base_uri": "https://localhost:8080/"
    },
    "id": "DASzPUATlA_Z",
    "outputId": "afd829c5-ef69-4a77-fd25-fd67c52d5e7b"
   },
   "outputs": [
    {
     "name": "stdout",
     "output_type": "stream",
     "text": [
      "y = x * [-0.05773838 -0.00029369] + 4.324936993886013\n",
      "y = x * [ 0.23756985 -0.28030128] + 4.623460689753356\n",
      "y = x * [-1.30690701e-01 -5.55393782e-05] + 4.430322878321464\n",
      "y = x * [-0.07331768 -0.06191607] + 3.9814968996531372\n"
     ]
    }
   ],
   "source": [
    "# liner regression model-a ( category and rating) in train test\n",
    "reg = linear_model.LinearRegression()\n",
    "X = train[['CateCode', 'ReCode']]\n",
    "y = train['rating']\n",
    "reg.fit(X, y)\n",
    "print(\"y = x *\", reg.coef_, \"+\", reg.intercept_)\n",
    "\n",
    "# liner regression model-b ( helpfulness and rating) in train test\n",
    "reg2 = linear_model.LinearRegression()\n",
    "X2 = train[['genderCode','helpfulness']]\n",
    "y2 = train['rating']\n",
    "reg2.fit(X2, y2)\n",
    "print(\"y = x *\", reg2.coef_, \"+\", reg2.intercept_)\n",
    "\n",
    "\n",
    "# liner regression model-c ( category and rating) in train2 test\n",
    "reg3 = linear_model.LinearRegression()\n",
    "X3 = train2[['CateCode', 'ReCode']]\n",
    "y3 = train2['rating']\n",
    "reg3.fit(X3, y3)\n",
    "print(\"y = x *\", reg3.coef_, \"+\", reg3.intercept_)\n",
    "\n",
    "\n",
    "# liner regression model-d ( category and rating) in train test\n",
    "reg4 = linear_model.LinearRegression()\n",
    "X4 = train2[['genderCode','helpfulness']]\n",
    "y4 = train2['rating']\n",
    "reg4.fit(X4, y4)\n",
    "print(\"y = x *\", reg4.coef_, \"+\", reg4.intercept_)"
   ]
  },
  {
   "cell_type": "markdown",
   "id": "lInSMSRZwSul",
   "metadata": {
    "id": "lInSMSRZwSul"
   },
   "source": [
    "**Comment**\n",
    "\n",
    "It is evident from the above numbers that data size has an effect on the performance of a model. The larger training set (90%) makes the regression more reliable. When the test sample size is small, the level of bias will increase. When selecting the most correlative characteristics, the results will be more accurate and reliable.\n"
   ]
  },
  {
   "cell_type": "markdown",
   "id": "KATSn7hYlA_Z",
   "metadata": {
    "id": "KATSn7hYlA_Z"
   },
   "source": [
    "### Evaluate Models\n",
    "* Evaluate the performance of the four models with two metrics, including MSE and Root MSE\n",
    "* Print the results of the four models regarding the two metrics"
   ]
  },
  {
   "cell_type": "code",
   "execution_count": 7,
   "id": "4fU8GPS9lA_Z",
   "metadata": {
    "colab": {
     "base_uri": "https://localhost:8080/"
    },
    "id": "4fU8GPS9lA_Z",
    "outputId": "f4233dde-7e4c-4abb-bdd4-55b463ab4da1"
   },
   "outputs": [
    {
     "name": "stdout",
     "output_type": "stream",
     "text": [
      "MSE for module-a: 1.8076034748434535\n",
      "Square root of MSE: 1.3444714481324822 \n",
      "\n",
      "MSE for module-b: 1.8391262735328597\n",
      "Square root of MSE: 1.3561438985346872 \n",
      "\n",
      "MSE for module-c: 1.747146030339331\n",
      "Square root of MSE: 1.321796516238158 \n",
      "\n",
      "MSE for module-d: 1.7988337678689175\n",
      "Square root of MSE: 1.341206087023511\n"
     ]
    }
   ],
   "source": [
    "# module-a\n",
    "X_test = test[['CateCode', 'ReCode']]\n",
    "y_test = test['rating']\n",
    "predicted = reg.predict(X_test)\n",
    "mse = ((np.array(y_test)-predicted)**2).sum()/len(y_test)\n",
    "sqr_a = math.sqrt(mse)\n",
    "print(\"MSE for module-a:\", mse)\n",
    "print(\"Square root of MSE:\", sqr_a, '\\n')\n",
    "\n",
    "# module-b\n",
    "X2_test = test[['genderCode', 'helpfulness']]\n",
    "y2_test = test['rating']\n",
    "predicted2 = reg2.predict(X2_test)\n",
    "mse2 = ((np.array(y2_test)-predicted2)**2).sum()/len(y2_test)\n",
    "sqr_b = math.sqrt(mse2)\n",
    "print(\"MSE for module-b:\", mse2)\n",
    "print(\"Square root of MSE:\", sqr_b, '\\n')\n",
    "\n",
    "# module-c\n",
    "X3_test = test[['CateCode', 'ReCode']]\n",
    "y3_test = test['rating']\n",
    "predicted3 = reg3.predict(X3_test)\n",
    "mse3= ((np.array(y3_test)-predicted3)**2).sum()/len(y3_test)\n",
    "sqr_c = math.sqrt(mse3)\n",
    "print(\"MSE for module-c:\", mse3)\n",
    "print(\"Square root of MSE:\", sqr_c, '\\n')\n",
    "\n",
    "# module-d\n",
    "X4_test = test[['genderCode', 'helpfulness']]\n",
    "y4_test = test['rating']\n",
    "predicted4 = reg4.predict(X4_test)\n",
    "mse4 = ((np.array(y4_test)-predicted4)**2).sum()/len(y4_test)\n",
    "sqr_d = math.sqrt(mse4)\n",
    "print(\"MSE for module-d:\", mse4)\n",
    "print(\"Square root of MSE:\", sqr_d)"
   ]
  },
  {
   "cell_type": "markdown",
   "id": "Y9jx-eY6lA_a",
   "metadata": {
    "id": "Y9jx-eY6lA_a"
   },
   "source": [
    "### Visualize, Compare and Analyze the Results\n",
    "* Visulize the results, and perform ___insightful analysis___ on the obtained results. For better visualization, you may need to carefully set the scale for the y-axis.\n",
    "* Normally, the model trained with most correlated features and more training data will get better results. Do you obtain the similar observations? If not, please ___explain the possible reasons___."
   ]
  },
  {
   "cell_type": "code",
   "execution_count": 8,
   "id": "3TNAIGDilA_a",
   "metadata": {
    "colab": {
     "base_uri": "https://localhost:8080/",
     "height": 469
    },
    "id": "3TNAIGDilA_a",
    "outputId": "7a5e0c38-70c8-44cf-d5cd-c72f744fd601"
   },
   "outputs": [
    {
     "data": {
      "text/plain": [
       "(1.6, 1.9)"
      ]
     },
     "execution_count": 8,
     "metadata": {},
     "output_type": "execute_result"
    },
    {
     "data": {
      "image/png": "[encoded data removed]",
      "text/plain": [
       "<Figure size 640x480 with 1 Axes>"
      ]
     },
     "metadata": {},
     "output_type": "display_data"
    }
   ],
   "source": [
    "mseBar = sns.barplot(x= ['module_a', 'module_b', 'module_c', 'module_d'], y= [mse, mse2, mse3, mse4], palette= 'Set2')\n",
    "mseBar.set(title ='MSE - Firgure 1')\n",
    "mseBar.set_ylim(1.6,1.9)"
   ]
  },
  {
   "cell_type": "code",
   "execution_count": 9,
   "id": "faVBJqkNT9WQ",
   "metadata": {
    "colab": {
     "base_uri": "https://localhost:8080/",
     "height": 469
    },
    "id": "faVBJqkNT9WQ",
    "outputId": "21beebe5-859b-4679-ec26-8eef7bf6ed43"
   },
   "outputs": [
    {
     "data": {
      "text/plain": [
       "(1.24, 1.38)"
      ]
     },
     "execution_count": 9,
     "metadata": {},
     "output_type": "execute_result"
    },
    {
     "data": {
      "image/png": "[encoded data removed]",
      "text/plain": [
       "<Figure size 640x480 with 1 Axes>"
      ]
     },
     "metadata": {},
     "output_type": "display_data"
    }
   ],
   "source": [
    "rmseBar = sns.barplot(x= ['module_a', 'module_b', 'module_c', 'module_d'], y= [sqr_a, sqr_b, sqr_c, sqr_d], palette= 'Set2')\n",
    "rmseBar.set(title ='RMSE - Firgure 2')\n",
    "rmseBar.set_ylim(1.24,1.38)"
   ]
  },
  {
   "cell_type": "markdown",
   "id": "UilGG_Xxdxho",
   "metadata": {
    "id": "UilGG_Xxdxho"
   },
   "source": [
    "**Insightful analysis of the obtained results:**  \n",
    "From both Figures 1 and 2, we can clearly see that Module 3 has the lowest for both mean squared error (mse) and root mean squared error (rmse). As stated in the question, with the most correlated features and the largest train data size will give a better results, module 3 is also met. With the largest data size (90%) and the two most correlated features, MSE and RMSE in the module are the lowest (1.75 and 1.32, respectively).\n",
    "\n",
    "On the other hand, module-b has the least correlation features and the smaller train test size; therefore, module-b has the highest MSE and RMSE (1.84 and 1.36, respectively), which means this module has the highest chance of the predictions having large errors. The fact that modules a and d have approximately the same mse and rmse (approximately 1.80 and 1.34). This indicates that Module-a and Module-d, even though they have different feature selection and training sizes, tend to have similar prediction errors on average."
   ]
  },
  {
   "cell_type": "markdown",
   "id": "2rrn2k8S1EBW",
   "metadata": {
    "id": "2rrn2k8S1EBW"
   },
   "source": [
    "**The better result in the module training with the most correlated features and more training data**  \n",
    "The module with the smallest mse and rmse will result in a better result because mse and rmse both tell us about the errors between the predicted values and the observed ones.\n",
    "\n",
    "A lower MSE means that the predicted values are closer to the real values in terms of squared errors. It shows how well the model fits the data on average. Since RMSE considers the square root of the mean squared errors, it emphasises greater mistakes more than MSE does. Better performance may be indicated by a lower RMSE value if you wish to penalise huge mistakes more severely.\n",
    "\n",
    "When doing a test, we want the error between the predicted data and the true one to be as small as possible; the smaller it is, the more accurate our test statistic. Therefore, the smaller the MSE and RMSE will decrease the errors, and in these data set, module-c will be the most suitable."
   ]
  }
 ],
 "metadata": {
  "colab": {
   "provenance": []
  },
  "kernelspec": {
   "display_name": "Python 3 (ipykernel)",
   "language": "python",
   "name": "python3"
  },
  "language_info": {
   "codemirror_mode": {
    "name": "ipython",
    "version": 3
   },
   "file_extension": ".py",
   "mimetype": "text/x-python",
   "name": "python",
   "nbconvert_exporter": "python",
   "pygments_lexer": "ipython3",
   "version": "3.11.7"
  }
 },
 "nbformat": 4,
 "nbformat_minor": 5
}
